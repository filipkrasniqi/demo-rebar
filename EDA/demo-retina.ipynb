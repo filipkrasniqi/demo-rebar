{
 "cells": [
  {
   "cell_type": "code",
   "execution_count": 1,
   "metadata": {
    "collapsed": true
   },
   "outputs": [],
   "source": [
    "import os\n",
    "import re\n",
    "import zipfile\n",
    "\n",
    "import numpy as np\n",
    "import tensorflow as tf\n",
    "from tensorflow import keras\n",
    "\n",
    "import matplotlib.pyplot as plt\n",
    "import tensorflow_datasets as tfds\n",
    "\n",
    "import sys\n",
    "sys.path.insert(0, '../model')\n",
    "\n",
    "from utils.label_encoder import LabelEncoder\n",
    "\n",
    "from utils.utils import *\n",
    "from loss.loss import RetinaNetLoss\n",
    "\n",
    "from retinanet import RetinaNet\n",
    "\n",
    "%reload_ext autoreload\n",
    "%autoreload 2"
   ]
  },
  {
   "cell_type": "code",
   "execution_count": 2,
   "outputs": [],
   "source": [
    "url = \"https://github.com/srihari-humbarwadi/datasets/releases/download/v0.1.0/data.zip\"\n",
    "filename = os.path.join(os.getcwd(), \"data.zip\")\n",
    "keras.utils.get_file(filename, url)\n",
    "\n",
    "\n",
    "with zipfile.ZipFile(\"data.zip\", \"r\") as z_fp:\n",
    "    z_fp.extractall(\"./\")"
   ],
   "metadata": {
    "collapsed": false
   }
  },
  {
   "cell_type": "code",
   "execution_count": 3,
   "outputs": [],
   "source": [
    "model_dir = \"retinanet/\"\n",
    "label_encoder = LabelEncoder()\n",
    "\n",
    "num_classes = 80\n",
    "batch_size = 2\n",
    "\n",
    "learning_rates = [2.5e-06, 0.000625, 0.00125, 0.0025, 0.00025, 2.5e-05]\n",
    "learning_rate_boundaries = [125, 250, 500, 240000, 360000]\n",
    "learning_rate_fn = tf.optimizers.schedules.PiecewiseConstantDecay(\n",
    "    boundaries=learning_rate_boundaries, values=learning_rates\n",
    ")"
   ],
   "metadata": {
    "collapsed": false
   }
  },
  {
   "cell_type": "code",
   "execution_count": 5,
   "outputs": [
    {
     "ename": "AttributeError",
     "evalue": "module 'h5py' has no attribute 'File'",
     "output_type": "error",
     "traceback": [
      "\u001B[1;31m---------------------------------------------------------------------------\u001B[0m",
      "\u001B[1;31mAttributeError\u001B[0m                            Traceback (most recent call last)",
      "Cell \u001B[1;32mIn[5], line 1\u001B[0m\n\u001B[1;32m----> 1\u001B[0m resnet50_backbone \u001B[38;5;241m=\u001B[39m \u001B[43mget_backbone\u001B[49m\u001B[43m(\u001B[49m\u001B[43m)\u001B[49m\n\u001B[0;32m      2\u001B[0m loss_fn \u001B[38;5;241m=\u001B[39m RetinaNetLoss(num_classes)\n\u001B[0;32m      3\u001B[0m model \u001B[38;5;241m=\u001B[39m RetinaNet(num_classes, resnet50_backbone)\n",
      "File \u001B[1;32m~\\PycharmProjects\\demo-rebar\\EDA\\../model\\utils\\utils.py:215\u001B[0m, in \u001B[0;36mget_backbone\u001B[1;34m()\u001B[0m\n\u001B[0;32m    213\u001B[0m \u001B[38;5;28;01mdef\u001B[39;00m \u001B[38;5;21mget_backbone\u001B[39m():\n\u001B[0;32m    214\u001B[0m     \u001B[38;5;124;03m\"\"\"Builds ResNet50 with pre-trained imagenet weights\"\"\"\u001B[39;00m\n\u001B[1;32m--> 215\u001B[0m     backbone \u001B[38;5;241m=\u001B[39m \u001B[43mkeras\u001B[49m\u001B[38;5;241;43m.\u001B[39;49m\u001B[43mapplications\u001B[49m\u001B[38;5;241;43m.\u001B[39;49m\u001B[43mResNet50\u001B[49m\u001B[43m(\u001B[49m\n\u001B[0;32m    216\u001B[0m \u001B[43m        \u001B[49m\u001B[43minclude_top\u001B[49m\u001B[38;5;241;43m=\u001B[39;49m\u001B[38;5;28;43;01mFalse\u001B[39;49;00m\u001B[43m,\u001B[49m\u001B[43m \u001B[49m\u001B[43minput_shape\u001B[49m\u001B[38;5;241;43m=\u001B[39;49m\u001B[43m[\u001B[49m\u001B[38;5;28;43;01mNone\u001B[39;49;00m\u001B[43m,\u001B[49m\u001B[43m \u001B[49m\u001B[38;5;28;43;01mNone\u001B[39;49;00m\u001B[43m,\u001B[49m\u001B[43m \u001B[49m\u001B[38;5;241;43m3\u001B[39;49m\u001B[43m]\u001B[49m\n\u001B[0;32m    217\u001B[0m \u001B[43m    \u001B[49m\u001B[43m)\u001B[49m\n\u001B[0;32m    218\u001B[0m     c3_output, c4_output, c5_output \u001B[38;5;241m=\u001B[39m [\n\u001B[0;32m    219\u001B[0m         backbone\u001B[38;5;241m.\u001B[39mget_layer(layer_name)\u001B[38;5;241m.\u001B[39moutput\n\u001B[0;32m    220\u001B[0m         \u001B[38;5;28;01mfor\u001B[39;00m layer_name \u001B[38;5;129;01min\u001B[39;00m [\u001B[38;5;124m\"\u001B[39m\u001B[38;5;124mconv3_block4_out\u001B[39m\u001B[38;5;124m\"\u001B[39m, \u001B[38;5;124m\"\u001B[39m\u001B[38;5;124mconv4_block6_out\u001B[39m\u001B[38;5;124m\"\u001B[39m, \u001B[38;5;124m\"\u001B[39m\u001B[38;5;124mconv5_block3_out\u001B[39m\u001B[38;5;124m\"\u001B[39m]\n\u001B[0;32m    221\u001B[0m     ]\n\u001B[0;32m    222\u001B[0m     \u001B[38;5;28;01mreturn\u001B[39;00m keras\u001B[38;5;241m.\u001B[39mModel(\n\u001B[0;32m    223\u001B[0m         inputs\u001B[38;5;241m=\u001B[39m[backbone\u001B[38;5;241m.\u001B[39minputs], outputs\u001B[38;5;241m=\u001B[39m[c3_output, c4_output, c5_output]\n\u001B[0;32m    224\u001B[0m     )\n",
      "File \u001B[1;32m~\\Anaconda3\\envs\\tf-v1\\lib\\site-packages\\keras\\applications\\resnet.py:521\u001B[0m, in \u001B[0;36mResNet50\u001B[1;34m(include_top, weights, input_tensor, input_shape, pooling, classes, **kwargs)\u001B[0m\n\u001B[0;32m    518\u001B[0m     x \u001B[38;5;241m=\u001B[39m stack1(x, \u001B[38;5;241m256\u001B[39m, \u001B[38;5;241m6\u001B[39m, name\u001B[38;5;241m=\u001B[39m\u001B[38;5;124m\"\u001B[39m\u001B[38;5;124mconv4\u001B[39m\u001B[38;5;124m\"\u001B[39m)\n\u001B[0;32m    519\u001B[0m     \u001B[38;5;28;01mreturn\u001B[39;00m stack1(x, \u001B[38;5;241m512\u001B[39m, \u001B[38;5;241m3\u001B[39m, name\u001B[38;5;241m=\u001B[39m\u001B[38;5;124m\"\u001B[39m\u001B[38;5;124mconv5\u001B[39m\u001B[38;5;124m\"\u001B[39m)\n\u001B[1;32m--> 521\u001B[0m \u001B[38;5;28;01mreturn\u001B[39;00m \u001B[43mResNet\u001B[49m\u001B[43m(\u001B[49m\n\u001B[0;32m    522\u001B[0m \u001B[43m    \u001B[49m\u001B[43mstack_fn\u001B[49m\u001B[43m,\u001B[49m\n\u001B[0;32m    523\u001B[0m \u001B[43m    \u001B[49m\u001B[38;5;28;43;01mFalse\u001B[39;49;00m\u001B[43m,\u001B[49m\n\u001B[0;32m    524\u001B[0m \u001B[43m    \u001B[49m\u001B[38;5;28;43;01mTrue\u001B[39;49;00m\u001B[43m,\u001B[49m\n\u001B[0;32m    525\u001B[0m \u001B[43m    \u001B[49m\u001B[38;5;124;43m\"\u001B[39;49m\u001B[38;5;124;43mresnet50\u001B[39;49m\u001B[38;5;124;43m\"\u001B[39;49m\u001B[43m,\u001B[49m\n\u001B[0;32m    526\u001B[0m \u001B[43m    \u001B[49m\u001B[43minclude_top\u001B[49m\u001B[43m,\u001B[49m\n\u001B[0;32m    527\u001B[0m \u001B[43m    \u001B[49m\u001B[43mweights\u001B[49m\u001B[43m,\u001B[49m\n\u001B[0;32m    528\u001B[0m \u001B[43m    \u001B[49m\u001B[43minput_tensor\u001B[49m\u001B[43m,\u001B[49m\n\u001B[0;32m    529\u001B[0m \u001B[43m    \u001B[49m\u001B[43minput_shape\u001B[49m\u001B[43m,\u001B[49m\n\u001B[0;32m    530\u001B[0m \u001B[43m    \u001B[49m\u001B[43mpooling\u001B[49m\u001B[43m,\u001B[49m\n\u001B[0;32m    531\u001B[0m \u001B[43m    \u001B[49m\u001B[43mclasses\u001B[49m\u001B[43m,\u001B[49m\n\u001B[0;32m    532\u001B[0m \u001B[43m    \u001B[49m\u001B[38;5;241;43m*\u001B[39;49m\u001B[38;5;241;43m*\u001B[39;49m\u001B[43mkwargs\u001B[49m\n\u001B[0;32m    533\u001B[0m \u001B[43m\u001B[49m\u001B[43m)\u001B[49m\n",
      "File \u001B[1;32m~\\Anaconda3\\envs\\tf-v1\\lib\\site-packages\\keras\\applications\\resnet.py:238\u001B[0m, in \u001B[0;36mResNet\u001B[1;34m(stack_fn, preact, use_bias, model_name, include_top, weights, input_tensor, input_shape, pooling, classes, classifier_activation, **kwargs)\u001B[0m\n\u001B[0;32m    231\u001B[0m         file_hash \u001B[38;5;241m=\u001B[39m WEIGHTS_HASHES[model_name][\u001B[38;5;241m1\u001B[39m]\n\u001B[0;32m    232\u001B[0m     weights_path \u001B[38;5;241m=\u001B[39m data_utils\u001B[38;5;241m.\u001B[39mget_file(\n\u001B[0;32m    233\u001B[0m         file_name,\n\u001B[0;32m    234\u001B[0m         BASE_WEIGHTS_PATH \u001B[38;5;241m+\u001B[39m file_name,\n\u001B[0;32m    235\u001B[0m         cache_subdir\u001B[38;5;241m=\u001B[39m\u001B[38;5;124m\"\u001B[39m\u001B[38;5;124mmodels\u001B[39m\u001B[38;5;124m\"\u001B[39m,\n\u001B[0;32m    236\u001B[0m         file_hash\u001B[38;5;241m=\u001B[39mfile_hash,\n\u001B[0;32m    237\u001B[0m     )\n\u001B[1;32m--> 238\u001B[0m     \u001B[43mmodel\u001B[49m\u001B[38;5;241;43m.\u001B[39;49m\u001B[43mload_weights\u001B[49m\u001B[43m(\u001B[49m\u001B[43mweights_path\u001B[49m\u001B[43m)\u001B[49m\n\u001B[0;32m    239\u001B[0m \u001B[38;5;28;01melif\u001B[39;00m weights \u001B[38;5;129;01mis\u001B[39;00m \u001B[38;5;129;01mnot\u001B[39;00m \u001B[38;5;28;01mNone\u001B[39;00m:\n\u001B[0;32m    240\u001B[0m     model\u001B[38;5;241m.\u001B[39mload_weights(weights)\n",
      "File \u001B[1;32m~\\Anaconda3\\envs\\tf-v1\\lib\\site-packages\\keras\\utils\\traceback_utils.py:70\u001B[0m, in \u001B[0;36mfilter_traceback.<locals>.error_handler\u001B[1;34m(*args, **kwargs)\u001B[0m\n\u001B[0;32m     67\u001B[0m     filtered_tb \u001B[38;5;241m=\u001B[39m _process_traceback_frames(e\u001B[38;5;241m.\u001B[39m__traceback__)\n\u001B[0;32m     68\u001B[0m     \u001B[38;5;66;03m# To get the full stack trace, call:\u001B[39;00m\n\u001B[0;32m     69\u001B[0m     \u001B[38;5;66;03m# `tf.debugging.disable_traceback_filtering()`\u001B[39;00m\n\u001B[1;32m---> 70\u001B[0m     \u001B[38;5;28;01mraise\u001B[39;00m e\u001B[38;5;241m.\u001B[39mwith_traceback(filtered_tb) \u001B[38;5;28;01mfrom\u001B[39;00m \u001B[38;5;28mNone\u001B[39m\n\u001B[0;32m     71\u001B[0m \u001B[38;5;28;01mfinally\u001B[39;00m:\n\u001B[0;32m     72\u001B[0m     \u001B[38;5;28;01mdel\u001B[39;00m filtered_tb\n",
      "File \u001B[1;32m~\\Anaconda3\\envs\\tf-v1\\lib\\site-packages\\keras\\engine\\training.py:2931\u001B[0m, in \u001B[0;36mModel.load_weights\u001B[1;34m(self, filepath, by_name, skip_mismatch, options)\u001B[0m\n\u001B[0;32m   2925\u001B[0m     \u001B[38;5;28;01mraise\u001B[39;00m \u001B[38;5;167;01mValueError\u001B[39;00m(\n\u001B[0;32m   2926\u001B[0m         \u001B[38;5;124m\"\u001B[39m\u001B[38;5;124mUnable to load weights saved in HDF5 format into a \u001B[39m\u001B[38;5;124m\"\u001B[39m\n\u001B[0;32m   2927\u001B[0m         \u001B[38;5;124m\"\u001B[39m\u001B[38;5;124msubclassed Model which has not created its variables yet. \u001B[39m\u001B[38;5;124m\"\u001B[39m\n\u001B[0;32m   2928\u001B[0m         \u001B[38;5;124m\"\u001B[39m\u001B[38;5;124mCall the Model first, then load the weights.\u001B[39m\u001B[38;5;124m\"\u001B[39m\n\u001B[0;32m   2929\u001B[0m     )\n\u001B[0;32m   2930\u001B[0m \u001B[38;5;28mself\u001B[39m\u001B[38;5;241m.\u001B[39m_assert_weights_created()\n\u001B[1;32m-> 2931\u001B[0m \u001B[38;5;28;01mwith\u001B[39;00m \u001B[43mh5py\u001B[49m\u001B[38;5;241;43m.\u001B[39;49m\u001B[43mFile\u001B[49m(filepath, \u001B[38;5;124m\"\u001B[39m\u001B[38;5;124mr\u001B[39m\u001B[38;5;124m\"\u001B[39m) \u001B[38;5;28;01mas\u001B[39;00m f:\n\u001B[0;32m   2932\u001B[0m     \u001B[38;5;28;01mif\u001B[39;00m \u001B[38;5;124m\"\u001B[39m\u001B[38;5;124mlayer_names\u001B[39m\u001B[38;5;124m\"\u001B[39m \u001B[38;5;129;01mnot\u001B[39;00m \u001B[38;5;129;01min\u001B[39;00m f\u001B[38;5;241m.\u001B[39mattrs \u001B[38;5;129;01mand\u001B[39;00m \u001B[38;5;124m\"\u001B[39m\u001B[38;5;124mmodel_weights\u001B[39m\u001B[38;5;124m\"\u001B[39m \u001B[38;5;129;01min\u001B[39;00m f:\n\u001B[0;32m   2933\u001B[0m         f \u001B[38;5;241m=\u001B[39m f[\u001B[38;5;124m\"\u001B[39m\u001B[38;5;124mmodel_weights\u001B[39m\u001B[38;5;124m\"\u001B[39m]\n",
      "\u001B[1;31mAttributeError\u001B[0m: module 'h5py' has no attribute 'File'"
     ]
    }
   ],
   "source": [
    "resnet50_backbone = get_backbone()\n",
    "loss_fn = RetinaNetLoss(num_classes)\n",
    "model = RetinaNet(num_classes, resnet50_backbone)\n",
    "\n",
    "optimizer = tf.keras.optimizers.legacy.SGD(learning_rate=learning_rate_fn, momentum=0.9)\n",
    "model.compile(loss=loss_fn, optimizer=optimizer)"
   ],
   "metadata": {
    "collapsed": false
   }
  }
 ],
 "metadata": {
  "kernelspec": {
   "name": "tf-v1",
   "language": "python",
   "display_name": "tf-v1"
  },
  "language_info": {
   "codemirror_mode": {
    "name": "ipython",
    "version": 2
   },
   "file_extension": ".py",
   "mimetype": "text/x-python",
   "name": "python",
   "nbconvert_exporter": "python",
   "pygments_lexer": "ipython2",
   "version": "2.7.6"
  }
 },
 "nbformat": 4,
 "nbformat_minor": 0
}
