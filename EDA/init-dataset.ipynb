{
 "cells": [
  {
   "cell_type": "markdown",
   "source": [
    "# Dataset initialization\n",
    "This notebook initializes the dataframe, provided as csv, and the TF records."
   ],
   "metadata": {
    "collapsed": false
   }
  },
  {
   "cell_type": "code",
   "execution_count": null,
   "metadata": {
    "collapsed": true,
    "is_executing": true
   },
   "outputs": [],
   "source": [
    "import sys\n",
    "\n",
    "import numpy as np\n",
    "import os\n",
    "from sklearn.model_selection import train_test_split\n",
    "\n",
    "sys.path.insert(0, '../model')\n",
    "\n",
    "from utils.utils import *\n",
    "\n",
    "import pandas as pd\n",
    "\n",
    "from tqdm import tqdm\n",
    "\n",
    "%reload_ext autoreload\n",
    "%autoreload 2"
   ]
  },
  {
   "cell_type": "code",
   "execution_count": null,
   "outputs": [],
   "source": [
    "import cv2\n",
    "\n",
    "def min_max_norm(df_to_update: pd.DataFrame, df_current: pd.DataFrame, col_min: str, col_max: str, max_val: int):\n",
    "    df_to_update.loc[df_current.index, col_min] = np.maximum(df_current[col_min], 0)\n",
    "    df_to_update.loc[df_current.index, col_max] = np.minimum(df_current[col_max], max_val-1)\n",
    "\n",
    "    df_to_update.loc[df_current.index, col_min] = df_current[col_min].astype(float) / max_val\n",
    "    df_to_update.loc[df_current.index, col_max] = df_current[col_max].astype(float) / max_val\n",
    "\n",
    "    return df_to_update\n",
    "\n",
    "def get_df(path_csv: str, path_raw_csv: str, overwrite: bool = False, normalize: bool = False,):\n",
    "    if not overwrite and os.path.exists(path_csv):\n",
    "        df = pd.read_csv(path_csv)\n",
    "    else:\n",
    "        f = open(path_raw_csv, \"r\")\n",
    "        rows = f.read().split(\"\\n\")\n",
    "        rows = [r.split(\",\") for r in rows]\n",
    "        rows = [[r[0]] + r[1].split(\" \") for r in rows[:-1]]\n",
    "        keys = [\"filename\", \"bbox-0\", \"bbox-1\", \"bbox-2\", \"bbox-3\"]\n",
    "        df = pd.DataFrame([{keys[i]: r[i] for i in range(5)} for r in rows])\n",
    "\n",
    "        if normalize:\n",
    "            df_g = df.groupby('filename')\n",
    "\n",
    "            for filename, df_current in tqdm(df_g):\n",
    "                H, W = cv2.imread(os.path.join(images_path, filename)).shape[:2]\n",
    "\n",
    "                for col in [f'bbox-{i}' for i in range(4)]:\n",
    "                    df_current[col] = df_current[col].astype(int)\n",
    "\n",
    "                df = min_max_norm(df_to_update=df, df_current=df_current, col_min='bbox-0', col_max='bbox-2', max_val=W)\n",
    "                df = min_max_norm(df_to_update=df, df_current=df_current, col_min='bbox-1', col_max='bbox-3', max_val=H)\n",
    "\n",
    "            for c in [f'bbox-{i}' for i in range(4)]:\n",
    "                df[c] = np.maximum(df[c], 0.)\n",
    "                df[c] = np.minimum(df[c], 1.)\n",
    "\n",
    "        df.to_csv(path_csv)\n",
    "        del rows\n",
    "\n",
    "    return df"
   ],
   "metadata": {
    "collapsed": false,
    "is_executing": true
   }
  },
  {
   "cell_type": "code",
   "execution_count": null,
   "outputs": [],
   "source": [
    "base_dir = get_dataset_path()\n",
    "images_path = os.path.join(base_dir, 'images')\n",
    "annotations_path = os.path.join(base_dir, \"annotations\")\n",
    "dataset_path = os.path.join(base_dir, \"dataset\")\n",
    "os.makedirs(dataset_path, exist_ok=True)\n",
    "\n",
    "train_ds_path = os.path.join(dataset_path, \"train_v3.tfrecord\")\n",
    "validation_ds_path = os.path.join(dataset_path, \"validation_v4.tfrecord\")\n",
    "test_ds_path = os.path.join(dataset_path, \"test_v3.tfrecord\")\n",
    "\n",
    "path_train_raw_csv = os.path.join(annotations_path, \"100_percent_train.csv\")\n",
    "path_train_csv = os.path.join(annotations_path, \"train_ds_all.csv\")\n",
    "path_test_raw_csv = os.path.join(annotations_path, \"test.csv\")\n",
    "path_test_csv = os.path.join(annotations_path, \"test_ds.csv\")\n",
    "path_validation_csv = os.path.join(annotations_path, \"val_ds.csv\")\n",
    "path_train_split_csv = os.path.join(annotations_path, \"train_ds.csv\")\n",
    "\n",
    "overwrite = False\n",
    "df_train = get_df(path_csv=path_train_csv, path_raw_csv=path_train_raw_csv, overwrite=overwrite, normalize=True)\n",
    "file_train = df_train['filename'].unique()\n",
    "\n",
    "\n",
    "if overwrite:\n",
    "    file_train, file_validation = train_test_split(file_train, test_size=.2)\n",
    "    df_validation = df_train[df_train['filename'].isin(file_validation)]\n",
    "    df_train = df_train[df_train['filename'].isin(file_train)]\n",
    "    df_validation.to_csv(path_validation_csv)\n",
    "    df_train.to_csv(path_train_split_csv)\n",
    "else:\n",
    "    df_train = pd.read_csv(path_train_split_csv)\n",
    "    df_validation = pd.read_csv(path_validation_csv)\n",
    "\n",
    "\n",
    "df_test = get_df(path_csv=path_test_csv, path_raw_csv=path_test_raw_csv, overwrite=overwrite, normalize=True)"
   ],
   "metadata": {
    "collapsed": false,
    "is_executing": true
   }
  },
  {
   "cell_type": "code",
   "execution_count": null,
   "outputs": [],
   "source": [
    "print(set(df_train['filename'].unique()).intersection(df_validation['filename'].unique()))\n",
    "print(set(df_test['filename'].unique()).intersection(df_validation['filename'].unique()))\n",
    "print(set(df_train['filename'].unique()).intersection(df_test['filename'].unique()))"
   ],
   "metadata": {
    "collapsed": false,
    "is_executing": true
   }
  },
  {
   "cell_type": "code",
   "execution_count": null,
   "outputs": [],
   "source": [
    "overwrite = False\n",
    "build_tfrecord(df=df_train, output_path=train_ds_path, images_path=images_path, overwrite=overwrite)\n",
    "build_tfrecord(df=df_validation, output_path=validation_ds_path, images_path=images_path, overwrite=overwrite)\n",
    "build_tfrecord(df=df_test, output_path=test_ds_path, images_path=images_path, overwrite=overwrite)"
   ],
   "metadata": {
    "collapsed": false,
    "is_executing": true
   }
  }
 ],
 "metadata": {
  "kernelspec": {
   "name": "cellai",
   "language": "python",
   "display_name": "cellai"
  },
  "language_info": {
   "codemirror_mode": {
    "name": "ipython",
    "version": 2
   },
   "file_extension": ".py",
   "mimetype": "text/x-python",
   "name": "python",
   "nbconvert_exporter": "python",
   "pygments_lexer": "ipython2",
   "version": "2.7.6"
  }
 },
 "nbformat": 4,
 "nbformat_minor": 0
}
